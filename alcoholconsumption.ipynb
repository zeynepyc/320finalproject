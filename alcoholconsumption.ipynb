{
 "cells": [
  {
   "cell_type": "markdown",
   "id": "db9ae324-8cd0-450a-aae1-154048fc7b15",
   "metadata": {
    "tags": []
   },
   "source": [
    "# Analysis of Student Alcohol Consumption"
   ]
  },
  {
   "cell_type": "markdown",
   "id": "8f5be7ac-2bd5-4503-b6d8-5d03c2fe6a9e",
   "metadata": {},
   "source": [
    "### by Zeynep Yilmazcoban and Anna Grover"
   ]
  },
  {
   "cell_type": "markdown",
   "id": "6ce3d24d-6805-492d-bec2-2083c6a437ac",
   "metadata": {},
   "source": [
    "##### Education is a key factor for achieving a better society. Throughout this tutorial we will be analyzing the correlation between student alcohol consumption and school success. The dataset we will be using contains data of secondary school students in Portugal. The dataset also contains information on students such as their sex, age, grades, number of school failures, relationships, and more. There is also data on their families such as family size, mother's and father's job, mother's and father's education level, if there is family educational support, and quality of the relationship between student in family. By the end, we aim to look at certain characteristics and how that relates to alcohol consumption."
   ]
  },
  {
   "cell_type": "code",
   "execution_count": 1,
   "id": "cebbf94e-cec9-4088-859e-4fb045439225",
   "metadata": {},
   "outputs": [],
   "source": [
    "import warnings\n",
    "warnings.simplefilter(action='ignore', category=FutureWarning)\n",
    "import numpy as np\n",
    "import pandas as pd\n",
    "import matplotlib.pyplot as plt\n",
    "import seaborn as sns"
   ]
  },
  {
   "cell_type": "markdown",
   "id": "de850f56-4000-4573-a822-0dc47e675546",
   "metadata": {
    "tags": []
   },
   "source": [
    "### Data Collection"
   ]
  },
  {
   "cell_type": "markdown",
   "id": "d136eae4-7a3b-4a47-ae5b-02ad50f4357a",
   "metadata": {},
   "source": [
    "The first step of the data science cycle is data collection. Here, we do this by using pandas' read_csv function to read our student-mat.cvs file. For each student, the dataset provides information printed below. Using these different types of information, we can analyze how alcohol consumption affects students. "
   ]
  },
  {
   "cell_type": "code",
   "execution_count": 2,
   "id": "9e085419-1070-4cf1-8f43-0b575dceed61",
   "metadata": {},
   "outputs": [
    {
     "data": {
      "text/plain": [
       "Index(['school', 'sex', 'age', 'address', 'famsize', 'Pstatus', 'Medu', 'Fedu',\n",
       "       'Mjob', 'Fjob', 'reason', 'guardian', 'traveltime', 'studytime',\n",
       "       'failures', 'schoolsup', 'famsup', 'paid', 'activities', 'nursery',\n",
       "       'higher', 'internet', 'romantic', 'famrel', 'freetime', 'goout', 'Dalc',\n",
       "       'Walc', 'health', 'absences', 'G1', 'G2', 'G3'],\n",
       "      dtype='object')"
      ]
     },
     "execution_count": 2,
     "metadata": {},
     "output_type": "execute_result"
    }
   ],
   "source": [
    "data = pd.read_csv(\"student-mat.csv\")\n",
    "data.columns"
   ]
  },
  {
   "cell_type": "markdown",
   "id": "2d22a947-61ab-4744-905a-ca1dc72600a8",
   "metadata": {},
   "source": [
    "Here is a list of some of the columns and their definitions as some column values might be unclear as to what they mean. For example, the health column contains a range of values where 1 shows that the student has very bad health and 5 shows great health. "
   ]
  },
  {
   "cell_type": "markdown",
   "id": "6df63bf2-746a-4ff2-9534-3b61e6a93277",
   "metadata": {},
   "source": [
    "Column Definitions:\n",
    "- famsize - family size (binary: 'LE3' - less or equal to 3 or 'GT3' - greater than 3)\n",
    "- Pstatus - parent's cohabitation status (binary: 'T' - living together or 'A' - apart)\n",
    "- Medu - mother's education (numeric: 0 - none, 1 - primary education (4th grade), 2 – 5th to 9th grade, 3 – secondary education or 4 – higher education)\n",
    "- Fedu - father's education (numeric: 0 - none, 1 - primary education (4th grade), 2 – 5th to 9th grade, 3 – secondary education or 4 – higher education)\n",
    "- studytime - weekly study time (numeric: 1 - 10 hours)\n",
    "- failures - number of past class failures (numeric: n if 1<=n<3, else 4)\n",
    "- famrel - quality of family relationships (numeric: from 1 - very bad to 5 - excellent)\n",
    "- freetime - free time after school (numeric: from 1 - very low to 5 - very high)\n",
    "- goout - going out with friends (numeric: from 1 - very low to 5 - very high)\n",
    "- Dalc - workday alcohol consumption (numeric: from 1 - very low to 5 - very high)\n",
    "- Walc - weekend alcohol consumption (numeric: from 1 - very low to 5 - very high)\n",
    "- health - current health status (numeric: from 1 - very bad to 5 - very good)\n",
    "- absences - number of school absences (numeric: from 0 to 93)\n",
    "- G3 - final grades (from 0 to 20)"
   ]
  },
  {
   "cell_type": "markdown",
   "id": "3b13acdd-955a-457d-b877-fb62a0a35879",
   "metadata": {},
   "source": [
    "## Data Management/Representation"
   ]
  },
  {
   "cell_type": "markdown",
   "id": "a6772f86-a997-4f0d-883f-82b123d11e9e",
   "metadata": {},
   "source": [
    "The goal of this stage of the data science cylce is to essentially clean up the dataset. We need to check for null or NaN values and get rid of them if necessary. Then we will check if there are any invalid or messy values in each column and update if necessary. Thankfully, the dataset we are using is already very clean and organized, so we will not need to do too much cleaning. However, we will  be reformatting our dataset in this stage to make it easier to use for our study and remove unnecessary information that we won't be utilizing to prevent confusion. "
   ]
  },
  {
   "cell_type": "markdown",
   "id": "c3636306-d0f5-4996-a8d6-57fad065cd92",
   "metadata": {},
   "source": [
    "\n",
    "\n",
    "Using the isnull function, we can see here that there are no null or NaN values in the data frame, so we don't need to worry about that."
   ]
  },
  {
   "cell_type": "code",
   "execution_count": 3,
   "id": "4c28a1f2-e15a-4ae5-96ff-a9c872e2d3d8",
   "metadata": {},
   "outputs": [
    {
     "data": {
      "text/plain": [
       "0"
      ]
     },
     "execution_count": 3,
     "metadata": {},
     "output_type": "execute_result"
    }
   ],
   "source": [
    "data.isnull().sum().sum()"
   ]
  },
  {
   "cell_type": "markdown",
   "id": "39eefcf2-71b0-4e60-8c11-74e62ca5214e",
   "metadata": {},
   "source": [
    "Now, we will reformat our data frame. We first decided to add a new column that shows average alcohol consumption level in one week since the dataset has them seperately as workday alcohol consumption and weekend alcohol consumption. We do this by taking the workkday alcohol consumption level and multiply it by 5 (for 5 workdays in a week) and add that to the weekend alcohol consumption level times 2 (for 2 weekend days in a week). Then, we divide by 7 (total number of days in a week) to get the average. Our result is a new column that is still on a scale of 1 to 5. As shown in the beginning, alcohol consumption values are in a range of 1 to 5 where 1 is very low amount and 5 is very high amount. \n",
    "We will also rename some columns that has confusing names do that our data frame is easier to read for future use. We then drop several columns that we will not be using in our analysis.\n"
   ]
  },
  {
   "cell_type": "code",
   "execution_count": 4,
   "id": "683ab0d8-4326-4e26-9adf-f178fa146e7f",
   "metadata": {},
   "outputs": [
    {
     "data": {
      "text/html": [
       "<div>\n",
       "<style scoped>\n",
       "    .dataframe tbody tr th:only-of-type {\n",
       "        vertical-align: middle;\n",
       "    }\n",
       "\n",
       "    .dataframe tbody tr th {\n",
       "        vertical-align: top;\n",
       "    }\n",
       "\n",
       "    .dataframe thead th {\n",
       "        text-align: right;\n",
       "    }\n",
       "</style>\n",
       "<table border=\"1\" class=\"dataframe\">\n",
       "  <thead>\n",
       "    <tr style=\"text-align: right;\">\n",
       "      <th></th>\n",
       "      <th>school</th>\n",
       "      <th>sex</th>\n",
       "      <th>age</th>\n",
       "      <th>famsize</th>\n",
       "      <th>parents cohabitation</th>\n",
       "      <th>Medu</th>\n",
       "      <th>Fedu</th>\n",
       "      <th>Mjob</th>\n",
       "      <th>Fjob</th>\n",
       "      <th>studytime</th>\n",
       "      <th>...</th>\n",
       "      <th>romantic</th>\n",
       "      <th>family relationship</th>\n",
       "      <th>freetime</th>\n",
       "      <th>goout</th>\n",
       "      <th>workday alcohol</th>\n",
       "      <th>weekend alcohol</th>\n",
       "      <th>health</th>\n",
       "      <th>absences</th>\n",
       "      <th>final grade</th>\n",
       "      <th>TotalAlc</th>\n",
       "    </tr>\n",
       "  </thead>\n",
       "  <tbody>\n",
       "    <tr>\n",
       "      <th>0</th>\n",
       "      <td>GP</td>\n",
       "      <td>F</td>\n",
       "      <td>18</td>\n",
       "      <td>GT3</td>\n",
       "      <td>A</td>\n",
       "      <td>4</td>\n",
       "      <td>4</td>\n",
       "      <td>at_home</td>\n",
       "      <td>teacher</td>\n",
       "      <td>2</td>\n",
       "      <td>...</td>\n",
       "      <td>no</td>\n",
       "      <td>4</td>\n",
       "      <td>3</td>\n",
       "      <td>4</td>\n",
       "      <td>1</td>\n",
       "      <td>1</td>\n",
       "      <td>3</td>\n",
       "      <td>6</td>\n",
       "      <td>6</td>\n",
       "      <td>1.0</td>\n",
       "    </tr>\n",
       "    <tr>\n",
       "      <th>1</th>\n",
       "      <td>GP</td>\n",
       "      <td>F</td>\n",
       "      <td>17</td>\n",
       "      <td>GT3</td>\n",
       "      <td>T</td>\n",
       "      <td>1</td>\n",
       "      <td>1</td>\n",
       "      <td>at_home</td>\n",
       "      <td>other</td>\n",
       "      <td>2</td>\n",
       "      <td>...</td>\n",
       "      <td>no</td>\n",
       "      <td>5</td>\n",
       "      <td>3</td>\n",
       "      <td>3</td>\n",
       "      <td>1</td>\n",
       "      <td>1</td>\n",
       "      <td>3</td>\n",
       "      <td>4</td>\n",
       "      <td>6</td>\n",
       "      <td>1.0</td>\n",
       "    </tr>\n",
       "    <tr>\n",
       "      <th>2</th>\n",
       "      <td>GP</td>\n",
       "      <td>F</td>\n",
       "      <td>15</td>\n",
       "      <td>LE3</td>\n",
       "      <td>T</td>\n",
       "      <td>1</td>\n",
       "      <td>1</td>\n",
       "      <td>at_home</td>\n",
       "      <td>other</td>\n",
       "      <td>2</td>\n",
       "      <td>...</td>\n",
       "      <td>no</td>\n",
       "      <td>4</td>\n",
       "      <td>3</td>\n",
       "      <td>2</td>\n",
       "      <td>2</td>\n",
       "      <td>3</td>\n",
       "      <td>3</td>\n",
       "      <td>10</td>\n",
       "      <td>10</td>\n",
       "      <td>2.0</td>\n",
       "    </tr>\n",
       "    <tr>\n",
       "      <th>3</th>\n",
       "      <td>GP</td>\n",
       "      <td>F</td>\n",
       "      <td>15</td>\n",
       "      <td>GT3</td>\n",
       "      <td>T</td>\n",
       "      <td>4</td>\n",
       "      <td>2</td>\n",
       "      <td>health</td>\n",
       "      <td>services</td>\n",
       "      <td>3</td>\n",
       "      <td>...</td>\n",
       "      <td>yes</td>\n",
       "      <td>3</td>\n",
       "      <td>2</td>\n",
       "      <td>2</td>\n",
       "      <td>1</td>\n",
       "      <td>1</td>\n",
       "      <td>5</td>\n",
       "      <td>2</td>\n",
       "      <td>15</td>\n",
       "      <td>1.0</td>\n",
       "    </tr>\n",
       "    <tr>\n",
       "      <th>4</th>\n",
       "      <td>GP</td>\n",
       "      <td>F</td>\n",
       "      <td>16</td>\n",
       "      <td>GT3</td>\n",
       "      <td>T</td>\n",
       "      <td>3</td>\n",
       "      <td>3</td>\n",
       "      <td>other</td>\n",
       "      <td>other</td>\n",
       "      <td>2</td>\n",
       "      <td>...</td>\n",
       "      <td>no</td>\n",
       "      <td>4</td>\n",
       "      <td>3</td>\n",
       "      <td>2</td>\n",
       "      <td>1</td>\n",
       "      <td>2</td>\n",
       "      <td>5</td>\n",
       "      <td>4</td>\n",
       "      <td>10</td>\n",
       "      <td>1.0</td>\n",
       "    </tr>\n",
       "    <tr>\n",
       "      <th>...</th>\n",
       "      <td>...</td>\n",
       "      <td>...</td>\n",
       "      <td>...</td>\n",
       "      <td>...</td>\n",
       "      <td>...</td>\n",
       "      <td>...</td>\n",
       "      <td>...</td>\n",
       "      <td>...</td>\n",
       "      <td>...</td>\n",
       "      <td>...</td>\n",
       "      <td>...</td>\n",
       "      <td>...</td>\n",
       "      <td>...</td>\n",
       "      <td>...</td>\n",
       "      <td>...</td>\n",
       "      <td>...</td>\n",
       "      <td>...</td>\n",
       "      <td>...</td>\n",
       "      <td>...</td>\n",
       "      <td>...</td>\n",
       "      <td>...</td>\n",
       "    </tr>\n",
       "    <tr>\n",
       "      <th>390</th>\n",
       "      <td>MS</td>\n",
       "      <td>M</td>\n",
       "      <td>20</td>\n",
       "      <td>LE3</td>\n",
       "      <td>A</td>\n",
       "      <td>2</td>\n",
       "      <td>2</td>\n",
       "      <td>services</td>\n",
       "      <td>services</td>\n",
       "      <td>2</td>\n",
       "      <td>...</td>\n",
       "      <td>no</td>\n",
       "      <td>5</td>\n",
       "      <td>5</td>\n",
       "      <td>4</td>\n",
       "      <td>4</td>\n",
       "      <td>5</td>\n",
       "      <td>4</td>\n",
       "      <td>11</td>\n",
       "      <td>9</td>\n",
       "      <td>4.0</td>\n",
       "    </tr>\n",
       "    <tr>\n",
       "      <th>391</th>\n",
       "      <td>MS</td>\n",
       "      <td>M</td>\n",
       "      <td>17</td>\n",
       "      <td>LE3</td>\n",
       "      <td>T</td>\n",
       "      <td>3</td>\n",
       "      <td>1</td>\n",
       "      <td>services</td>\n",
       "      <td>services</td>\n",
       "      <td>1</td>\n",
       "      <td>...</td>\n",
       "      <td>no</td>\n",
       "      <td>2</td>\n",
       "      <td>4</td>\n",
       "      <td>5</td>\n",
       "      <td>3</td>\n",
       "      <td>4</td>\n",
       "      <td>2</td>\n",
       "      <td>3</td>\n",
       "      <td>16</td>\n",
       "      <td>3.0</td>\n",
       "    </tr>\n",
       "    <tr>\n",
       "      <th>392</th>\n",
       "      <td>MS</td>\n",
       "      <td>M</td>\n",
       "      <td>21</td>\n",
       "      <td>GT3</td>\n",
       "      <td>T</td>\n",
       "      <td>1</td>\n",
       "      <td>1</td>\n",
       "      <td>other</td>\n",
       "      <td>other</td>\n",
       "      <td>1</td>\n",
       "      <td>...</td>\n",
       "      <td>no</td>\n",
       "      <td>5</td>\n",
       "      <td>5</td>\n",
       "      <td>3</td>\n",
       "      <td>3</td>\n",
       "      <td>3</td>\n",
       "      <td>3</td>\n",
       "      <td>3</td>\n",
       "      <td>7</td>\n",
       "      <td>3.0</td>\n",
       "    </tr>\n",
       "    <tr>\n",
       "      <th>393</th>\n",
       "      <td>MS</td>\n",
       "      <td>M</td>\n",
       "      <td>18</td>\n",
       "      <td>LE3</td>\n",
       "      <td>T</td>\n",
       "      <td>3</td>\n",
       "      <td>2</td>\n",
       "      <td>services</td>\n",
       "      <td>other</td>\n",
       "      <td>1</td>\n",
       "      <td>...</td>\n",
       "      <td>no</td>\n",
       "      <td>4</td>\n",
       "      <td>4</td>\n",
       "      <td>1</td>\n",
       "      <td>3</td>\n",
       "      <td>4</td>\n",
       "      <td>5</td>\n",
       "      <td>0</td>\n",
       "      <td>10</td>\n",
       "      <td>3.0</td>\n",
       "    </tr>\n",
       "    <tr>\n",
       "      <th>394</th>\n",
       "      <td>MS</td>\n",
       "      <td>M</td>\n",
       "      <td>19</td>\n",
       "      <td>LE3</td>\n",
       "      <td>T</td>\n",
       "      <td>1</td>\n",
       "      <td>1</td>\n",
       "      <td>other</td>\n",
       "      <td>at_home</td>\n",
       "      <td>1</td>\n",
       "      <td>...</td>\n",
       "      <td>no</td>\n",
       "      <td>3</td>\n",
       "      <td>2</td>\n",
       "      <td>3</td>\n",
       "      <td>3</td>\n",
       "      <td>3</td>\n",
       "      <td>5</td>\n",
       "      <td>5</td>\n",
       "      <td>9</td>\n",
       "      <td>3.0</td>\n",
       "    </tr>\n",
       "  </tbody>\n",
       "</table>\n",
       "<p>395 rows × 25 columns</p>\n",
       "</div>"
      ],
      "text/plain": [
       "    school sex  age famsize parents cohabitation  Medu  Fedu      Mjob  \\\n",
       "0       GP   F   18     GT3                    A     4     4   at_home   \n",
       "1       GP   F   17     GT3                    T     1     1   at_home   \n",
       "2       GP   F   15     LE3                    T     1     1   at_home   \n",
       "3       GP   F   15     GT3                    T     4     2    health   \n",
       "4       GP   F   16     GT3                    T     3     3     other   \n",
       "..     ...  ..  ...     ...                  ...   ...   ...       ...   \n",
       "390     MS   M   20     LE3                    A     2     2  services   \n",
       "391     MS   M   17     LE3                    T     3     1  services   \n",
       "392     MS   M   21     GT3                    T     1     1     other   \n",
       "393     MS   M   18     LE3                    T     3     2  services   \n",
       "394     MS   M   19     LE3                    T     1     1     other   \n",
       "\n",
       "         Fjob  studytime  ...  romantic family relationship freetime goout  \\\n",
       "0     teacher          2  ...        no                   4        3     4   \n",
       "1       other          2  ...        no                   5        3     3   \n",
       "2       other          2  ...        no                   4        3     2   \n",
       "3    services          3  ...       yes                   3        2     2   \n",
       "4       other          2  ...        no                   4        3     2   \n",
       "..        ...        ...  ...       ...                 ...      ...   ...   \n",
       "390  services          2  ...        no                   5        5     4   \n",
       "391  services          1  ...        no                   2        4     5   \n",
       "392     other          1  ...        no                   5        5     3   \n",
       "393     other          1  ...        no                   4        4     1   \n",
       "394   at_home          1  ...        no                   3        2     3   \n",
       "\n",
       "    workday alcohol weekend alcohol  health  absences  final grade  TotalAlc  \n",
       "0                 1               1       3         6            6       1.0  \n",
       "1                 1               1       3         4            6       1.0  \n",
       "2                 2               3       3        10           10       2.0  \n",
       "3                 1               1       5         2           15       1.0  \n",
       "4                 1               2       5         4           10       1.0  \n",
       "..              ...             ...     ...       ...          ...       ...  \n",
       "390               4               5       4        11            9       4.0  \n",
       "391               3               4       2         3           16       3.0  \n",
       "392               3               3       3         3            7       3.0  \n",
       "393               3               4       5         0           10       3.0  \n",
       "394               3               3       5         5            9       3.0  \n",
       "\n",
       "[395 rows x 25 columns]"
      ]
     },
     "execution_count": 4,
     "metadata": {},
     "output_type": "execute_result"
    }
   ],
   "source": [
    "# adding a new column of total weekly alcohol consumption\n",
    "data['TotalAlc'] = np.round(((data['Dalc']*5) + (data['Walc']*2))/7)\n",
    "\n",
    "# renaming columns\n",
    "data.rename(columns = {'Pstatus':'parents cohabitation', 'famrel':'family relationship', 'Dalc' : 'workday alcohol',\n",
    "                      'Walc' : 'weekend alcohol', 'G3' : 'final grade'}, inplace = True)\n",
    "\n",
    "# dropping unrelated columns\n",
    "data.drop(['address', 'G1', 'G2', 'reason', 'guardian', 'nursery', 'internet', 'paid', 'traveltime'], axis=1, inplace=True)\n",
    "data"
   ]
  },
  {
   "cell_type": "markdown",
   "id": "f5e4a61f-8459-46fa-b3f0-ecb07a0a7942",
   "metadata": {},
   "source": [
    "## Exploratory Data Analysis"
   ]
  },
  {
   "cell_type": "markdown",
   "id": "aff5bb24-ca27-4863-9d82-eead9d3f7e17",
   "metadata": {},
   "source": [
    "In the explatory data analysis stage, we will utilize our data to see relations and potential trends between values. In this stage, we will mainly plot our data to create various charts and graphs to be able to do analysis.\n",
    "\n"
   ]
  },
  {
   "cell_type": "markdown",
   "id": "f80c1d93-9fc6-4462-bcfe-43e1a04e12b5",
   "metadata": {},
   "source": [
    "Here, we are using the describe function which will display a statistics summary of the numerical columns in our data frame."
   ]
  },
  {
   "cell_type": "code",
   "execution_count": 5,
   "id": "077f80b3-347d-4f94-902f-b1620400116b",
   "metadata": {},
   "outputs": [
    {
     "data": {
      "text/html": [
       "<div>\n",
       "<style scoped>\n",
       "    .dataframe tbody tr th:only-of-type {\n",
       "        vertical-align: middle;\n",
       "    }\n",
       "\n",
       "    .dataframe tbody tr th {\n",
       "        vertical-align: top;\n",
       "    }\n",
       "\n",
       "    .dataframe thead th {\n",
       "        text-align: right;\n",
       "    }\n",
       "</style>\n",
       "<table border=\"1\" class=\"dataframe\">\n",
       "  <thead>\n",
       "    <tr style=\"text-align: right;\">\n",
       "      <th></th>\n",
       "      <th>age</th>\n",
       "      <th>Medu</th>\n",
       "      <th>Fedu</th>\n",
       "      <th>studytime</th>\n",
       "      <th>failures</th>\n",
       "      <th>family relationship</th>\n",
       "      <th>freetime</th>\n",
       "      <th>goout</th>\n",
       "      <th>workday alcohol</th>\n",
       "      <th>weekend alcohol</th>\n",
       "      <th>health</th>\n",
       "      <th>absences</th>\n",
       "      <th>final grade</th>\n",
       "      <th>TotalAlc</th>\n",
       "    </tr>\n",
       "  </thead>\n",
       "  <tbody>\n",
       "    <tr>\n",
       "      <th>count</th>\n",
       "      <td>395.000000</td>\n",
       "      <td>395.000000</td>\n",
       "      <td>395.000000</td>\n",
       "      <td>395.000000</td>\n",
       "      <td>395.000000</td>\n",
       "      <td>395.000000</td>\n",
       "      <td>395.000000</td>\n",
       "      <td>395.000000</td>\n",
       "      <td>395.000000</td>\n",
       "      <td>395.000000</td>\n",
       "      <td>395.000000</td>\n",
       "      <td>395.000000</td>\n",
       "      <td>395.000000</td>\n",
       "      <td>395.000000</td>\n",
       "    </tr>\n",
       "    <tr>\n",
       "      <th>mean</th>\n",
       "      <td>16.696203</td>\n",
       "      <td>2.749367</td>\n",
       "      <td>2.521519</td>\n",
       "      <td>2.035443</td>\n",
       "      <td>0.334177</td>\n",
       "      <td>3.944304</td>\n",
       "      <td>3.235443</td>\n",
       "      <td>3.108861</td>\n",
       "      <td>1.481013</td>\n",
       "      <td>2.291139</td>\n",
       "      <td>3.554430</td>\n",
       "      <td>5.708861</td>\n",
       "      <td>10.415190</td>\n",
       "      <td>1.716456</td>\n",
       "    </tr>\n",
       "    <tr>\n",
       "      <th>std</th>\n",
       "      <td>1.276043</td>\n",
       "      <td>1.094735</td>\n",
       "      <td>1.088201</td>\n",
       "      <td>0.839240</td>\n",
       "      <td>0.743651</td>\n",
       "      <td>0.896659</td>\n",
       "      <td>0.998862</td>\n",
       "      <td>1.113278</td>\n",
       "      <td>0.890741</td>\n",
       "      <td>1.287897</td>\n",
       "      <td>1.390303</td>\n",
       "      <td>8.003096</td>\n",
       "      <td>4.581443</td>\n",
       "      <td>0.966761</td>\n",
       "    </tr>\n",
       "    <tr>\n",
       "      <th>min</th>\n",
       "      <td>15.000000</td>\n",
       "      <td>0.000000</td>\n",
       "      <td>0.000000</td>\n",
       "      <td>1.000000</td>\n",
       "      <td>0.000000</td>\n",
       "      <td>1.000000</td>\n",
       "      <td>1.000000</td>\n",
       "      <td>1.000000</td>\n",
       "      <td>1.000000</td>\n",
       "      <td>1.000000</td>\n",
       "      <td>1.000000</td>\n",
       "      <td>0.000000</td>\n",
       "      <td>0.000000</td>\n",
       "      <td>1.000000</td>\n",
       "    </tr>\n",
       "    <tr>\n",
       "      <th>25%</th>\n",
       "      <td>16.000000</td>\n",
       "      <td>2.000000</td>\n",
       "      <td>2.000000</td>\n",
       "      <td>1.000000</td>\n",
       "      <td>0.000000</td>\n",
       "      <td>4.000000</td>\n",
       "      <td>3.000000</td>\n",
       "      <td>2.000000</td>\n",
       "      <td>1.000000</td>\n",
       "      <td>1.000000</td>\n",
       "      <td>3.000000</td>\n",
       "      <td>0.000000</td>\n",
       "      <td>8.000000</td>\n",
       "      <td>1.000000</td>\n",
       "    </tr>\n",
       "    <tr>\n",
       "      <th>50%</th>\n",
       "      <td>17.000000</td>\n",
       "      <td>3.000000</td>\n",
       "      <td>2.000000</td>\n",
       "      <td>2.000000</td>\n",
       "      <td>0.000000</td>\n",
       "      <td>4.000000</td>\n",
       "      <td>3.000000</td>\n",
       "      <td>3.000000</td>\n",
       "      <td>1.000000</td>\n",
       "      <td>2.000000</td>\n",
       "      <td>4.000000</td>\n",
       "      <td>4.000000</td>\n",
       "      <td>11.000000</td>\n",
       "      <td>1.000000</td>\n",
       "    </tr>\n",
       "    <tr>\n",
       "      <th>75%</th>\n",
       "      <td>18.000000</td>\n",
       "      <td>4.000000</td>\n",
       "      <td>3.000000</td>\n",
       "      <td>2.000000</td>\n",
       "      <td>0.000000</td>\n",
       "      <td>5.000000</td>\n",
       "      <td>4.000000</td>\n",
       "      <td>4.000000</td>\n",
       "      <td>2.000000</td>\n",
       "      <td>3.000000</td>\n",
       "      <td>5.000000</td>\n",
       "      <td>8.000000</td>\n",
       "      <td>14.000000</td>\n",
       "      <td>2.000000</td>\n",
       "    </tr>\n",
       "    <tr>\n",
       "      <th>max</th>\n",
       "      <td>22.000000</td>\n",
       "      <td>4.000000</td>\n",
       "      <td>4.000000</td>\n",
       "      <td>4.000000</td>\n",
       "      <td>3.000000</td>\n",
       "      <td>5.000000</td>\n",
       "      <td>5.000000</td>\n",
       "      <td>5.000000</td>\n",
       "      <td>5.000000</td>\n",
       "      <td>5.000000</td>\n",
       "      <td>5.000000</td>\n",
       "      <td>75.000000</td>\n",
       "      <td>20.000000</td>\n",
       "      <td>5.000000</td>\n",
       "    </tr>\n",
       "  </tbody>\n",
       "</table>\n",
       "</div>"
      ],
      "text/plain": [
       "              age        Medu        Fedu   studytime    failures  \\\n",
       "count  395.000000  395.000000  395.000000  395.000000  395.000000   \n",
       "mean    16.696203    2.749367    2.521519    2.035443    0.334177   \n",
       "std      1.276043    1.094735    1.088201    0.839240    0.743651   \n",
       "min     15.000000    0.000000    0.000000    1.000000    0.000000   \n",
       "25%     16.000000    2.000000    2.000000    1.000000    0.000000   \n",
       "50%     17.000000    3.000000    2.000000    2.000000    0.000000   \n",
       "75%     18.000000    4.000000    3.000000    2.000000    0.000000   \n",
       "max     22.000000    4.000000    4.000000    4.000000    3.000000   \n",
       "\n",
       "       family relationship    freetime       goout  workday alcohol  \\\n",
       "count           395.000000  395.000000  395.000000       395.000000   \n",
       "mean              3.944304    3.235443    3.108861         1.481013   \n",
       "std               0.896659    0.998862    1.113278         0.890741   \n",
       "min               1.000000    1.000000    1.000000         1.000000   \n",
       "25%               4.000000    3.000000    2.000000         1.000000   \n",
       "50%               4.000000    3.000000    3.000000         1.000000   \n",
       "75%               5.000000    4.000000    4.000000         2.000000   \n",
       "max               5.000000    5.000000    5.000000         5.000000   \n",
       "\n",
       "       weekend alcohol      health    absences  final grade    TotalAlc  \n",
       "count       395.000000  395.000000  395.000000   395.000000  395.000000  \n",
       "mean          2.291139    3.554430    5.708861    10.415190    1.716456  \n",
       "std           1.287897    1.390303    8.003096     4.581443    0.966761  \n",
       "min           1.000000    1.000000    0.000000     0.000000    1.000000  \n",
       "25%           1.000000    3.000000    0.000000     8.000000    1.000000  \n",
       "50%           2.000000    4.000000    4.000000    11.000000    1.000000  \n",
       "75%           3.000000    5.000000    8.000000    14.000000    2.000000  \n",
       "max           5.000000    5.000000   75.000000    20.000000    5.000000  "
      ]
     },
     "execution_count": 5,
     "metadata": {},
     "output_type": "execute_result"
    }
   ],
   "source": [
    "data.describe()"
   ]
  },
  {
   "cell_type": "markdown",
   "id": "e0cbe125-0814-4dc4-9865-40f0315db1de",
   "metadata": {},
   "source": [
    "This table provides us with important information. The average age of students in the study is approximately 17 and we see that there are not that many failures (less than 1 for the average). In general, it seems like students have pretty good relationships with their families and have good health (both values are above a 3). Average alcohol consumption doesn't seem too high with an average workday consumption being ~1.5 and weekend being ~2.3. Most of the data must have alcohol consumptions less than 3. However there is at least 1 student with maximum amount of consumption, meaning that high alcohol consumption does exist somewhere in the dataset. Final grade (in their Math course) average is a 10/20, which is low. "
   ]
  },
  {
   "cell_type": "markdown",
   "id": "07797658-5fb1-48fe-b270-15f20ecb0dc8",
   "metadata": {},
   "source": [
    "#### School Demographics"
   ]
  },
  {
   "cell_type": "code",
   "execution_count": 6,
   "id": "d3ec0d33-985e-4235-8765-45a39c3c305f",
   "metadata": {},
   "outputs": [
    {
     "data": {
      "text/plain": [
       "16    104\n",
       "17     98\n",
       "18     82\n",
       "15     82\n",
       "19     24\n",
       "20      3\n",
       "22      1\n",
       "21      1\n",
       "Name: age, dtype: int64"
      ]
     },
     "execution_count": 6,
     "metadata": {},
     "output_type": "execute_result"
    }
   ],
   "source": [
    "data['age'].value_counts()"
   ]
  },
  {
   "cell_type": "markdown",
   "id": "2658a9a1-ee0c-46dd-b54b-2ddff9216d36",
   "metadata": {},
   "source": [
    "From the values above, we can see that the majority of the students are between 16-19. There is only one person who is 21 and is legal for drinking in the US. However, it is important to keep in mind that the drinking age in Portugal is 18 and the law provides an exception for minors aged 16 and 17, if they consume a glass of beer, wine or cider with a meal in a restaurant."
   ]
  },
  {
   "cell_type": "markdown",
   "id": "3beb04da-a414-45d2-9a32-629d40c18108",
   "metadata": {},
   "source": [
    "\n",
    "\n",
    "Below, we will be creating plot that shows the average alcohol consumption per age group. To do that, we are creating a small table that takes the mean of total alcohol consumption per age group, then we plot that table. "
   ]
  },
  {
   "cell_type": "code",
   "execution_count": 7,
   "id": "8e9ffa52-2717-4377-9c02-18ec0b092bfe",
   "metadata": {},
   "outputs": [
    {
     "data": {
      "text/plain": [
       "Text(0, 0.5, 'alcohol consumption (1 - low, 10 - high)')"
      ]
     },
     "execution_count": 7,
     "metadata": {},
     "output_type": "execute_result"
    },
    {
     "data": {
      "image/png": "[encoded data removed]",
      "text/plain": [
       "<Figure size 648x432 with 1 Axes>"
      ]
     },
     "metadata": {
      "needs_background": "light"
     },
     "output_type": "display_data"
    }
   ],
   "source": [
    "table = data.groupby('age')['TotalAlc'].mean()\n",
    "plt.figure(figsize=(9, 6))\n",
    "table.plot()\n",
    "plt.title(\"Average Weekly Alcohol Consumption by Ages\")\n",
    "plt.ylabel(\"alcohol consumption (1 - low, 10 - high)\")"
   ]
  },
  {
   "cell_type": "markdown",
   "id": "417adb3e-ad48-4d24-9d4d-47f1f7932270",
   "metadata": {},
   "source": [
    "From the above plot, we observe that in general, alcohol intake increases as the age goes up. Specifically, ages 21 and 22 have the highest amount. As expected, youngest age (15) has the lowest alcohol consumption. While consumption increases from ages 15 to 17, it slowly decreases from 17 to 19. After age 19, consumption increases very steeply. This makes sense as 18 is the legal drinking age in Portugal, so ages 18+ will have higher alcohol consumption. It is also possible that ages less than 18 won't want to tell the truth about their alcohol consumption, so this could be an issue with the data collection that on our side, we can't control."
   ]
  },
  {
   "cell_type": "markdown",
   "id": "332c5f12-9468-4220-8e9d-e7f7b370d2b6",
   "metadata": {},
   "source": [
    "\n",
    "Now, we are creating bar charts to show alcohol consumption on workdays vs. weekends. We do this using the seaborn bar charts."
   ]
  },
  {
   "cell_type": "code",
   "execution_count": 8,
   "id": "5bb5b4ae-a8ef-434f-b6ac-153890e837f9",
   "metadata": {},
   "outputs": [
    {
     "data": {
      "image/png": "[encoded data removed]",
      "text/plain": [
       "<Figure size 432x288 with 1 Axes>"
      ]
     },
     "metadata": {
      "needs_background": "light"
     },
     "output_type": "display_data"
    },
    {
     "data": {
      "image/png": "[encoded data removed]",
      "text/plain": [
       "<Figure size 432x288 with 1 Axes>"
      ]
     },
     "metadata": {
      "needs_background": "light"
     },
     "output_type": "display_data"
    }
   ],
   "source": [
    "workdayalcohol = data[\"workday alcohol\"].value_counts()\n",
    "ax = sns.barplot(x = workdayalcohol.index, y = workdayalcohol.values)\n",
    "plt.ylabel('Number of Students')\n",
    "plt.xlabel('Alcohol Consumption (1-low, 5-high)')\n",
    "plt.title('Workday Alcohol Consumption')\n",
    "plt.show()\n",
    "weekendalcohol = data[\"weekend alcohol\"].value_counts()\n",
    "ax = sns.barplot(x = weekendalcohol.index, y = weekendalcohol.values)\n",
    "plt.ylabel('Number of Students')\n",
    "plt.xlabel('Alcohol Consumption (1-low, 5-high)')\n",
    "plt.title('Weekend Alcohol Consumption')\n",
    "plt.show()"
   ]
  },
  {
   "cell_type": "markdown",
   "id": "4d105c30-fcd4-4190-86e3-fdeb9f9b3864",
   "metadata": {},
   "source": [
    "As expected, alcohol consumption is significantly higher during the weekends. We can see that there are more reports of higher levels of alcohol consumptions on the weekend than workdays. For example, a level 4 on a workday is only reported by ~10-20 students, wheras on the weekend, we see almost 60 students reporting a level 4. This is not surprising because the weekend is typically a time to party and have fun."
   ]
  },
  {
   "cell_type": "code",
   "execution_count": 9,
   "id": "1c1b28db-30f8-4399-a33f-f7c189eeac42",
   "metadata": {},
   "outputs": [
    {
     "data": {
      "image/png": "[encoded data removed]",
      "text/plain": [
       "<Figure size 648x648 with 1 Axes>"
      ]
     },
     "metadata": {},
     "output_type": "display_data"
    }
   ],
   "source": [
    "labels = data.TotalAlc.value_counts().index \n",
    "values = data.TotalAlc.value_counts().values \n",
    "plt.figure(figsize=(9, 9))\n",
    "plt.pie(values, labels=labels, autopct= \"%1.1f%%\")\n",
    "plt.title(\"Average Weekly Alcohol Consumption (1 - lowest amount, 5 - highest amount)\", fontsize = 16)\n",
    "plt.show()"
   ]
  },
  {
   "cell_type": "markdown",
   "id": "29a92f75-163f-4bfc-8e35-4695c8ebf560",
   "metadata": {},
   "source": [
    "The pie chart above shows us the percentages of the amount of alcohol consumption by students. It seems like more than half of the students have relatively low alcohol intake. The percentage decreases as the amount of consumption increases. This also shows us that there is less data on students with higher levels of alcohol consumption, which is a possible skew in the dataset. Therefore, our ML may be affected later on."
   ]
  },
  {
   "cell_type": "markdown",
   "id": "3c4b61bc-538f-4cfe-9e18-ae4b12fb0693",
   "metadata": {},
   "source": [
    "Below, we are using Seaborn's swarmplot to classify students' grades as above average and below average and see the relation between those grades and alcohol consumption. To make the swarmplot, we will calculate the mean of the final grade column which will determine the differentiating line on the graph. Then we place the points accordingly by comparing each grade to the mean. "
   ]
  },
  {
   "cell_type": "code",
   "execution_count": 10,
   "id": "fac3685d-453e-453d-9896-10f986a873d1",
   "metadata": {},
   "outputs": [
    {
     "data": {
      "text/plain": [
       "[Text(0.5, 0, 'Average Weekly Alcohol Intake (1-lowest, 5-highest)'),\n",
       " Text(0, 0.5, 'Final grades (0-20)')]"
      ]
     },
     "execution_count": 10,
     "metadata": {},
     "output_type": "execute_result"
    },
    {
     "data": {
      "image/png": "[encoded data removed]",
      "text/plain": [
       "<Figure size 1080x576 with 1 Axes>"
      ]
     },
     "metadata": {
      "needs_background": "light"
     },
     "output_type": "display_data"
    }
   ],
   "source": [
    "mean = sum(data['final grade']) / float(len(data))\n",
    "data[\"average\"] = ['above average' if i > mean else 'below average' for i in data['final grade']]\n",
    "plt.figure(figsize = (15,8))\n",
    "sp = sns.swarmplot(x = 'TotalAlc', y = 'final grade', hue = 'average', data = data)\n",
    "sp.set(title = \"Final Grades in Relation to Alcohol Consumption\")\n",
    "sp.set(xlabel = \"Average Weekly Alcohol Intake (1-lowest, 5-highest)\", ylabel = \"Final grades (0-20)\")"
   ]
  },
  {
   "cell_type": "markdown",
   "id": "22de2e13-1b07-4388-93e7-2b4f57d704c8",
   "metadata": {},
   "source": [
    "The swarmplot shows that the final grade average is around 11 out of 20. If we consider the ratios, it seems like more students earned above average grades for consumption levels 1 and 2 which are the lowest amounts. In comparison, for groups whose alcohol consumption levels are 3 and 4, more students earned below average grades than above average. We also observe that the student who got the highest grade (20) has an alcohol consumption level of 1. "
   ]
  },
  {
   "cell_type": "markdown",
   "id": "31070ba2-791e-43c0-8b22-b3f70459f11a",
   "metadata": {},
   "source": [
    "In the rest of our explatory data analysis, we will be making bar charts of students who consume more alcohol and less alcohol vs. their final grades, class failures, and health levels. This will help us identify any relationship or trend alcohol consumption has on student success. We are using Seaborn again to make these bar charts. For the group of students who consume more alcohol, we include those who has a total alcohol consumption value of 3 or more. "
   ]
  },
  {
   "cell_type": "code",
   "execution_count": 11,
   "id": "a98fad05-ac24-470e-8e0e-3d3ce98f3091",
   "metadata": {},
   "outputs": [
    {
     "data": {
      "text/plain": [
       "[Text(0.5, 0, 'final grade (1-20)'), Text(0, 0.5, 'density')]"
      ]
     },
     "execution_count": 11,
     "metadata": {},
     "output_type": "execute_result"
    },
    {
     "data": {
      "image/png": "[encoded data removed]",
      "text/plain": [
       "<Figure size 1296x432 with 1 Axes>"
      ]
     },
     "metadata": {
      "needs_background": "light"
     },
     "output_type": "display_data"
    },
    {
     "data": {
      "text/plain": [
       "<Figure size 1080x576 with 0 Axes>"
      ]
     },
     "metadata": {},
     "output_type": "display_data"
    },
    {
     "data": {
      "image/png": "[encoded data removed]",
      "text/plain": [
       "<Figure size 1296x432 with 1 Axes>"
      ]
     },
     "metadata": {
      "needs_background": "light"
     },
     "output_type": "display_data"
    },
    {
     "data": {
      "text/plain": [
       "<Figure size 1080x576 with 0 Axes>"
      ]
     },
     "metadata": {},
     "output_type": "display_data"
    }
   ],
   "source": [
    "ax = plt.figure(figsize=(18,6)).add_subplot(121)\n",
    "plt.figure(figsize = (15,8))\n",
    "sns.distplot(data[(data.TotalAlc >= 3)][\"final grade\"], color = 'black', ax = ax)\n",
    "ax.set_title('Grade Distribution of Students Who Consume More Alcohol')\n",
    "ax.set(xlabel = \"final grade (1-20)\", ylabel = \"density\")\n",
    "ax = plt.figure(figsize=(18,6)).add_subplot(122)\n",
    "plt.figure(figsize = (15,8))\n",
    "sns.distplot(data[(data.TotalAlc < 3)]['final grade'], color = 'green', ax = ax)\n",
    "ax.set_title('Grade Distribution of Students Who Consume Less Alcohol')\n",
    "ax.set(xlabel = \"final grade (1-20)\", ylabel = \"density\")"
   ]
  },
  {
   "cell_type": "markdown",
   "id": "ea481a76-0183-40f9-bdf8-50e00feb49c2",
   "metadata": {},
   "source": [
    "Looking at the tables above, we can say that students who consumed more alcohol received lower grades compared to those who consumed less alcohol. We see this because the density in the higher consumption levels is higher at the 10/20 mark than in the less consumption graph. Also, the curve in the less alcohol graph is a little more spread out in the higher grades, meaning that there is more density in students scoring higher with less alcohol consumption than in the higher consumption levels. "
   ]
  },
  {
   "cell_type": "code",
   "execution_count": 12,
   "id": "bf7c94c3-aa86-4b67-9499-87b1364b27b0",
   "metadata": {},
   "outputs": [
    {
     "data": {
      "text/plain": [
       "Text(0.5, 1.0, 'Failures of Students Who Consume Less Alcohol')"
      ]
     },
     "execution_count": 12,
     "metadata": {},
     "output_type": "execute_result"
    },
    {
     "data": {
      "image/png": "[encoded data removed]",
      "text/plain": [
       "<Figure size 1296x432 with 1 Axes>"
      ]
     },
     "metadata": {
      "needs_background": "light"
     },
     "output_type": "display_data"
    },
    {
     "data": {
      "text/plain": [
       "<Figure size 1080x576 with 0 Axes>"
      ]
     },
     "metadata": {},
     "output_type": "display_data"
    },
    {
     "data": {
      "image/png": "[encoded data removed]",
      "text/plain": [
       "<Figure size 1296x432 with 1 Axes>"
      ]
     },
     "metadata": {
      "needs_background": "light"
     },
     "output_type": "display_data"
    },
    {
     "data": {
      "text/plain": [
       "<Figure size 1080x576 with 0 Axes>"
      ]
     },
     "metadata": {},
     "output_type": "display_data"
    }
   ],
   "source": [
    "ax = plt.figure(figsize=(18,6)).add_subplot(121)\n",
    "plt.figure(figsize = (15,8))\n",
    "sns.distplot(data[(data.TotalAlc >= 3)][\"failures\"], color = 'black', ax = ax)\n",
    "ax.set_title('Failures of Students Who Consume More Alcohol')\n",
    "ax = plt.figure(figsize=(18,6)).add_subplot(122)\n",
    "plt.figure(figsize = (15,8))\n",
    "sns.distplot(data[(data.TotalAlc < 3)]['failures'], color = 'green', ax = ax)\n",
    "ax.set_title('Failures of Students Who Consume Less Alcohol')"
   ]
  },
  {
   "cell_type": "markdown",
   "id": "a24e94e4-47b9-4612-b456-0f30a038b712",
   "metadata": {},
   "source": [
    "Here, the number of students who did not fail any classes is significantly higher for students who consumed less alcohol compared to the ones who consumed more. However, it seems like not that many students failed classes in general because of the higher number of 0 failures in both average alcohol consumptions. "
   ]
  },
  {
   "cell_type": "code",
   "execution_count": 13,
   "id": "accae9d3-144f-47a8-bae5-f4754e351906",
   "metadata": {},
   "outputs": [
    {
     "data": {
      "text/plain": [
       "Text(0.5, 1.0, 'Health of Students Who Consume Less Alcohol')"
      ]
     },
     "execution_count": 13,
     "metadata": {},
     "output_type": "execute_result"
    },
    {
     "data": {
      "image/png": "[encoded data removed]",
      "text/plain": [
       "<Figure size 1296x432 with 1 Axes>"
      ]
     },
     "metadata": {
      "needs_background": "light"
     },
     "output_type": "display_data"
    },
    {
     "data": {
      "text/plain": [
       "<Figure size 1080x576 with 0 Axes>"
      ]
     },
     "metadata": {},
     "output_type": "display_data"
    },
    {
     "data": {
      "image/png": "[encoded data removed]",
      "text/plain": [
       "<Figure size 1296x432 with 1 Axes>"
      ]
     },
     "metadata": {
      "needs_background": "light"
     },
     "output_type": "display_data"
    },
    {
     "data": {
      "text/plain": [
       "<Figure size 1080x576 with 0 Axes>"
      ]
     },
     "metadata": {},
     "output_type": "display_data"
    }
   ],
   "source": [
    "ax = plt.figure(figsize=(18,6)).add_subplot(121)\n",
    "plt.figure(figsize = (15,8))\n",
    "sns.distplot(data[(data.TotalAlc >= 3)][\"health\"], color = 'black', ax = ax)\n",
    "ax.set_title('Health of Students Who Consume More Alcohol')\n",
    "ax = plt.figure(figsize=(18,6)).add_subplot(122)\n",
    "plt.figure(figsize = (15,8))\n",
    "sns.distplot(data[(data.TotalAlc < 3)]['health'], color = 'green', ax = ax)\n",
    "ax.set_title('Health of Students Who Consume Less Alcohol')"
   ]
  },
  {
   "cell_type": "markdown",
   "id": "6d8e9c5c-33f2-4684-968e-022188e24c7a",
   "metadata": {},
   "source": [
    "The health scale is from 1 to 5, with 1 being very bad health and 5 being very good health. Interestly, there are higher densities in the lower health ranges for students who consumes less alcohol than students who consume more. This is surprising because alcohol is not good for your health, so seeing that students who consume less alcohol actually report feeling worse is odd. This could be because alcohol has the affect of making people feel good for a short period of time, and young adults/teenagers are more resislient, so the after affects of alcohol may not be as harsh as it is to older adults. If this data was conducted on older adults, we may see the trend that those who consume more alcohol feel worse. Another thing is that health is very subjective; when conducting this data, people could be feeling sick and reported feeling worse than they normally do. Overall, there are many possible reasons for this very interesting result."
   ]
  },
  {
   "cell_type": "markdown",
   "id": "6cd8bc09-0885-49c1-9e3b-345c9f7220f3",
   "metadata": {},
   "source": [
    "### Prepping Data For Machine Learning"
   ]
  },
  {
   "cell_type": "code",
   "execution_count": 14,
   "id": "8cda9fce-b159-4ccc-9aac-3453252ebe12",
   "metadata": {},
   "outputs": [],
   "source": [
    "# d will be mapped to columns to turn the strings into boolean True False\n",
    "d = {'no':False, 'yes':True}\n",
    "columns_to_bool = {'schoolsup', 'famsup', 'activities', 'higher', 'romantic'}\n",
    "for col in columns_to_bool:\n",
    "    data[col] = data[col].map(d)\n",
    "    \n",
    "d = {'F':False, 'M':True}\n",
    "data['sex'] = data['sex'].map(d)"
   ]
  },
  {
   "cell_type": "markdown",
   "id": "05c17309-8747-4a82-a62d-15928099e8be",
   "metadata": {},
   "source": [
    "The above code is necessary to prep for the Machine Learning because columns 'schoolsup', 'famsup', 'activities', 'higher', and 'romantic' have values \"yes\" and \"no\". The sex column has \"M\" for males and \"F\" for females. Since these columns have two unique values, we can easily convert it to become a boolean (True False). We want boolean values because the machine learning will not know how to process object values (strings). "
   ]
  },
  {
   "cell_type": "code",
   "execution_count": 15,
   "id": "4f1066e8-cf05-4607-9722-bd49fec4c260",
   "metadata": {},
   "outputs": [
    {
     "data": {
      "text/html": [
       "<div>\n",
       "<style scoped>\n",
       "    .dataframe tbody tr th:only-of-type {\n",
       "        vertical-align: middle;\n",
       "    }\n",
       "\n",
       "    .dataframe tbody tr th {\n",
       "        vertical-align: top;\n",
       "    }\n",
       "\n",
       "    .dataframe thead th {\n",
       "        text-align: right;\n",
       "    }\n",
       "</style>\n",
       "<table border=\"1\" class=\"dataframe\">\n",
       "  <thead>\n",
       "    <tr style=\"text-align: right;\">\n",
       "      <th></th>\n",
       "      <th>sex</th>\n",
       "      <th>age</th>\n",
       "      <th>Medu</th>\n",
       "      <th>Fedu</th>\n",
       "      <th>studytime</th>\n",
       "      <th>failures</th>\n",
       "      <th>schoolsup</th>\n",
       "      <th>famsup</th>\n",
       "      <th>activities</th>\n",
       "      <th>higher</th>\n",
       "      <th>romantic</th>\n",
       "      <th>family relationship</th>\n",
       "      <th>freetime</th>\n",
       "      <th>goout</th>\n",
       "      <th>workday alcohol</th>\n",
       "      <th>weekend alcohol</th>\n",
       "      <th>health</th>\n",
       "      <th>absences</th>\n",
       "      <th>final grade</th>\n",
       "      <th>TotalAlc</th>\n",
       "    </tr>\n",
       "  </thead>\n",
       "  <tbody>\n",
       "    <tr>\n",
       "      <th>0</th>\n",
       "      <td>False</td>\n",
       "      <td>18</td>\n",
       "      <td>4</td>\n",
       "      <td>4</td>\n",
       "      <td>2</td>\n",
       "      <td>0</td>\n",
       "      <td>True</td>\n",
       "      <td>False</td>\n",
       "      <td>False</td>\n",
       "      <td>True</td>\n",
       "      <td>False</td>\n",
       "      <td>4</td>\n",
       "      <td>3</td>\n",
       "      <td>4</td>\n",
       "      <td>1</td>\n",
       "      <td>1</td>\n",
       "      <td>3</td>\n",
       "      <td>6</td>\n",
       "      <td>6</td>\n",
       "      <td>1.0</td>\n",
       "    </tr>\n",
       "    <tr>\n",
       "      <th>1</th>\n",
       "      <td>False</td>\n",
       "      <td>17</td>\n",
       "      <td>1</td>\n",
       "      <td>1</td>\n",
       "      <td>2</td>\n",
       "      <td>0</td>\n",
       "      <td>False</td>\n",
       "      <td>True</td>\n",
       "      <td>False</td>\n",
       "      <td>True</td>\n",
       "      <td>False</td>\n",
       "      <td>5</td>\n",
       "      <td>3</td>\n",
       "      <td>3</td>\n",
       "      <td>1</td>\n",
       "      <td>1</td>\n",
       "      <td>3</td>\n",
       "      <td>4</td>\n",
       "      <td>6</td>\n",
       "      <td>1.0</td>\n",
       "    </tr>\n",
       "    <tr>\n",
       "      <th>2</th>\n",
       "      <td>False</td>\n",
       "      <td>15</td>\n",
       "      <td>1</td>\n",
       "      <td>1</td>\n",
       "      <td>2</td>\n",
       "      <td>3</td>\n",
       "      <td>True</td>\n",
       "      <td>False</td>\n",
       "      <td>False</td>\n",
       "      <td>True</td>\n",
       "      <td>False</td>\n",
       "      <td>4</td>\n",
       "      <td>3</td>\n",
       "      <td>2</td>\n",
       "      <td>2</td>\n",
       "      <td>3</td>\n",
       "      <td>3</td>\n",
       "      <td>10</td>\n",
       "      <td>10</td>\n",
       "      <td>2.0</td>\n",
       "    </tr>\n",
       "    <tr>\n",
       "      <th>3</th>\n",
       "      <td>False</td>\n",
       "      <td>15</td>\n",
       "      <td>4</td>\n",
       "      <td>2</td>\n",
       "      <td>3</td>\n",
       "      <td>0</td>\n",
       "      <td>False</td>\n",
       "      <td>True</td>\n",
       "      <td>True</td>\n",
       "      <td>True</td>\n",
       "      <td>True</td>\n",
       "      <td>3</td>\n",
       "      <td>2</td>\n",
       "      <td>2</td>\n",
       "      <td>1</td>\n",
       "      <td>1</td>\n",
       "      <td>5</td>\n",
       "      <td>2</td>\n",
       "      <td>15</td>\n",
       "      <td>1.0</td>\n",
       "    </tr>\n",
       "    <tr>\n",
       "      <th>4</th>\n",
       "      <td>False</td>\n",
       "      <td>16</td>\n",
       "      <td>3</td>\n",
       "      <td>3</td>\n",
       "      <td>2</td>\n",
       "      <td>0</td>\n",
       "      <td>False</td>\n",
       "      <td>True</td>\n",
       "      <td>False</td>\n",
       "      <td>True</td>\n",
       "      <td>False</td>\n",
       "      <td>4</td>\n",
       "      <td>3</td>\n",
       "      <td>2</td>\n",
       "      <td>1</td>\n",
       "      <td>2</td>\n",
       "      <td>5</td>\n",
       "      <td>4</td>\n",
       "      <td>10</td>\n",
       "      <td>1.0</td>\n",
       "    </tr>\n",
       "    <tr>\n",
       "      <th>...</th>\n",
       "      <td>...</td>\n",
       "      <td>...</td>\n",
       "      <td>...</td>\n",
       "      <td>...</td>\n",
       "      <td>...</td>\n",
       "      <td>...</td>\n",
       "      <td>...</td>\n",
       "      <td>...</td>\n",
       "      <td>...</td>\n",
       "      <td>...</td>\n",
       "      <td>...</td>\n",
       "      <td>...</td>\n",
       "      <td>...</td>\n",
       "      <td>...</td>\n",
       "      <td>...</td>\n",
       "      <td>...</td>\n",
       "      <td>...</td>\n",
       "      <td>...</td>\n",
       "      <td>...</td>\n",
       "      <td>...</td>\n",
       "    </tr>\n",
       "    <tr>\n",
       "      <th>390</th>\n",
       "      <td>True</td>\n",
       "      <td>20</td>\n",
       "      <td>2</td>\n",
       "      <td>2</td>\n",
       "      <td>2</td>\n",
       "      <td>2</td>\n",
       "      <td>False</td>\n",
       "      <td>True</td>\n",
       "      <td>False</td>\n",
       "      <td>True</td>\n",
       "      <td>False</td>\n",
       "      <td>5</td>\n",
       "      <td>5</td>\n",
       "      <td>4</td>\n",
       "      <td>4</td>\n",
       "      <td>5</td>\n",
       "      <td>4</td>\n",
       "      <td>11</td>\n",
       "      <td>9</td>\n",
       "      <td>4.0</td>\n",
       "    </tr>\n",
       "    <tr>\n",
       "      <th>391</th>\n",
       "      <td>True</td>\n",
       "      <td>17</td>\n",
       "      <td>3</td>\n",
       "      <td>1</td>\n",
       "      <td>1</td>\n",
       "      <td>0</td>\n",
       "      <td>False</td>\n",
       "      <td>False</td>\n",
       "      <td>False</td>\n",
       "      <td>True</td>\n",
       "      <td>False</td>\n",
       "      <td>2</td>\n",
       "      <td>4</td>\n",
       "      <td>5</td>\n",
       "      <td>3</td>\n",
       "      <td>4</td>\n",
       "      <td>2</td>\n",
       "      <td>3</td>\n",
       "      <td>16</td>\n",
       "      <td>3.0</td>\n",
       "    </tr>\n",
       "    <tr>\n",
       "      <th>392</th>\n",
       "      <td>True</td>\n",
       "      <td>21</td>\n",
       "      <td>1</td>\n",
       "      <td>1</td>\n",
       "      <td>1</td>\n",
       "      <td>3</td>\n",
       "      <td>False</td>\n",
       "      <td>False</td>\n",
       "      <td>False</td>\n",
       "      <td>True</td>\n",
       "      <td>False</td>\n",
       "      <td>5</td>\n",
       "      <td>5</td>\n",
       "      <td>3</td>\n",
       "      <td>3</td>\n",
       "      <td>3</td>\n",
       "      <td>3</td>\n",
       "      <td>3</td>\n",
       "      <td>7</td>\n",
       "      <td>3.0</td>\n",
       "    </tr>\n",
       "    <tr>\n",
       "      <th>393</th>\n",
       "      <td>True</td>\n",
       "      <td>18</td>\n",
       "      <td>3</td>\n",
       "      <td>2</td>\n",
       "      <td>1</td>\n",
       "      <td>0</td>\n",
       "      <td>False</td>\n",
       "      <td>False</td>\n",
       "      <td>False</td>\n",
       "      <td>True</td>\n",
       "      <td>False</td>\n",
       "      <td>4</td>\n",
       "      <td>4</td>\n",
       "      <td>1</td>\n",
       "      <td>3</td>\n",
       "      <td>4</td>\n",
       "      <td>5</td>\n",
       "      <td>0</td>\n",
       "      <td>10</td>\n",
       "      <td>3.0</td>\n",
       "    </tr>\n",
       "    <tr>\n",
       "      <th>394</th>\n",
       "      <td>True</td>\n",
       "      <td>19</td>\n",
       "      <td>1</td>\n",
       "      <td>1</td>\n",
       "      <td>1</td>\n",
       "      <td>0</td>\n",
       "      <td>False</td>\n",
       "      <td>False</td>\n",
       "      <td>False</td>\n",
       "      <td>True</td>\n",
       "      <td>False</td>\n",
       "      <td>3</td>\n",
       "      <td>2</td>\n",
       "      <td>3</td>\n",
       "      <td>3</td>\n",
       "      <td>3</td>\n",
       "      <td>5</td>\n",
       "      <td>5</td>\n",
       "      <td>9</td>\n",
       "      <td>3.0</td>\n",
       "    </tr>\n",
       "  </tbody>\n",
       "</table>\n",
       "<p>395 rows × 20 columns</p>\n",
       "</div>"
      ],
      "text/plain": [
       "       sex  age  Medu  Fedu  studytime  failures  schoolsup  famsup  \\\n",
       "0    False   18     4     4          2         0       True   False   \n",
       "1    False   17     1     1          2         0      False    True   \n",
       "2    False   15     1     1          2         3       True   False   \n",
       "3    False   15     4     2          3         0      False    True   \n",
       "4    False   16     3     3          2         0      False    True   \n",
       "..     ...  ...   ...   ...        ...       ...        ...     ...   \n",
       "390   True   20     2     2          2         2      False    True   \n",
       "391   True   17     3     1          1         0      False   False   \n",
       "392   True   21     1     1          1         3      False   False   \n",
       "393   True   18     3     2          1         0      False   False   \n",
       "394   True   19     1     1          1         0      False   False   \n",
       "\n",
       "     activities  higher  romantic  family relationship  freetime  goout  \\\n",
       "0         False    True     False                    4         3      4   \n",
       "1         False    True     False                    5         3      3   \n",
       "2         False    True     False                    4         3      2   \n",
       "3          True    True      True                    3         2      2   \n",
       "4         False    True     False                    4         3      2   \n",
       "..          ...     ...       ...                  ...       ...    ...   \n",
       "390       False    True     False                    5         5      4   \n",
       "391       False    True     False                    2         4      5   \n",
       "392       False    True     False                    5         5      3   \n",
       "393       False    True     False                    4         4      1   \n",
       "394       False    True     False                    3         2      3   \n",
       "\n",
       "     workday alcohol  weekend alcohol  health  absences  final grade  TotalAlc  \n",
       "0                  1                1       3         6            6       1.0  \n",
       "1                  1                1       3         4            6       1.0  \n",
       "2                  2                3       3        10           10       2.0  \n",
       "3                  1                1       5         2           15       1.0  \n",
       "4                  1                2       5         4           10       1.0  \n",
       "..               ...              ...     ...       ...          ...       ...  \n",
       "390                4                5       4        11            9       4.0  \n",
       "391                3                4       2         3           16       3.0  \n",
       "392                3                3       3         3            7       3.0  \n",
       "393                3                4       5         0           10       3.0  \n",
       "394                3                3       5         5            9       3.0  \n",
       "\n",
       "[395 rows x 20 columns]"
      ]
     },
     "execution_count": 15,
     "metadata": {},
     "output_type": "execute_result"
    }
   ],
   "source": [
    "#Creating dataframe to be used in ML\n",
    "data2 = pd.DataFrame(data=data)\n",
    "data2.drop(['school', 'famsize', 'parents cohabitation', 'Mjob', 'Fjob', 'average'], axis=1, inplace=True)\n",
    "data2"
   ]
  },
  {
   "cell_type": "markdown",
   "id": "a9432e7f-3baa-4eba-9e9e-e01bfb5525ad",
   "metadata": {},
   "source": [
    "The above dataset will be used for Machine learning (data2). We chose to drop columns 'school', 'famsize', 'parents cohabitation', 'Mjob', 'Fjob', and 'average' because these columns have qualititative data. Machine learning requires quantative data in order to do predicitions, and this data would be hard convert to quantitative data for the machine learning to use. We also have a lot of other quantitative data already, so we feel that dropping these columns may not affect the outcomes too much. "
   ]
  },
  {
   "cell_type": "markdown",
   "id": "423cebc1-9060-40ff-9bd2-21122724b4de",
   "metadata": {},
   "source": [
    "### Hypothesis testing"
   ]
  },
  {
   "cell_type": "code",
   "execution_count": 16,
   "id": "298c4aad-00e8-417d-bb85-ba508530892d",
   "metadata": {},
   "outputs": [
    {
     "name": "stdout",
     "output_type": "stream",
     "text": [
      "6004 1501\n"
     ]
    }
   ],
   "source": [
    "from sklearn.svm import SVC\n",
    "from sklearn.ensemble import RandomForestClassifier\n",
    "import sklearn.model_selection as ms\n",
    "import sklearn.metrics as met\n",
    "import math \n",
    "import warnings\n",
    "warnings.filterwarnings('ignore')\n",
    "\n",
    "# model definitions for each ML we will use: Linear SVM and RandomForest\n",
    "model1= {'type': SVC(), 'parameters': [{'C': [1, 10, 100, 1000],'kernel': ['linear']}] }\n",
    "model2={'type': RandomForestClassifier(), 'parameters': [{'max_features' : ['auto', 'sqrt', 'log2'], 'max_depth': [None, 5, 2, 1]}]}\n",
    "\n",
    "# defining dependent and independent variables. Our target it average weekly alcohol consumption level (TotalAlc column)\n",
    "dep = data2[['TotalAlc']]\n",
    "data2.drop( 'TotalAlc', axis=1, inplace=True)\n",
    "ind = data2\n",
    "\n",
    "# 80/20 split\n",
    "ind_train, ind_test, dep_train, dep_test = ms.train_test_split(ind, dep, test_size=0.2)\n",
    "print(ind_train.size, ind_test.size)"
   ]
  },
  {
   "cell_type": "markdown",
   "id": "db6b70ac-765a-4954-948c-b72af9ea88d8",
   "metadata": {},
   "source": [
    "I chose to do an 80/20 split because I want to give each ML a lot of data to train with in order to get the most accurate result. I did end up testing with different splits (60/40, 70/30), but 80/20 proved to be the best.\n",
    "\n",
    "I chose to use the Linear SVM and Random Forest classifier algorithms. These are hyper-parameter algorithms, so to define them for model selection, I used GridSearchCV from the sklern.model_selection. This model selection also helps me do 10-fold cross validation because it creates the folds of data and tests it out on each hyper-parameter. It does this to find the best split based on accuracy. 10-fold cross validation also helps prevent overfitting, which is important in making sure our predicitions from the ML are accurate and not too dependent on training data."
   ]
  },
  {
   "cell_type": "code",
   "execution_count": 17,
   "id": "43f91d62-824c-4549-9626-54abe9c877f1",
   "metadata": {},
   "outputs": [],
   "source": [
    "# Training and testing\n",
    "Lsvm = SVC()\n",
    "RF = RandomForestClassifier()\n",
    "\n",
    "Lsvm.fit(ind_train, dep_train)\n",
    "RF.fit(ind_train, dep_train)\n",
    "\n",
    "predicted = Lsvm.predict(ind_test)\n",
    "predicted2 = RF.predict(ind_test)\n",
    "\n",
    "Lsvm.fit(ind_train, dep_train)\n",
    "RF.fit(ind_train, dep_train)\n",
    "\n",
    "actual = np.array(dep_test)\n",
    "predictions = np.array(predicted)\n",
    "\n",
    "actual2 = np.array(dep_test)\n",
    "predictions2 = np.array(predicted2)\n",
    "\n",
    "# Confusion Matrices for each ML\n",
    "cm = met.confusion_matrix(actual, predictions)\n",
    "cm2 = met.confusion_matrix(actual2, predictions2)"
   ]
  },
  {
   "cell_type": "code",
   "execution_count": 18,
   "id": "97636eb1-e8d8-426e-99cf-e3fac0072778",
   "metadata": {},
   "outputs": [],
   "source": [
    "# Using confusion matrix to get true positives below\n",
    "# Linear SVM\n",
    "FP = cm.sum(axis=0) - np.diag(cm)  \n",
    "FN = cm.sum(axis=1) - np.diag(cm)\n",
    "TP = np.diag(cm)\n",
    "TN = cm.sum() - (FP + FN + TP)\n",
    "\n",
    "# Calculating values from true positives\n",
    "# Precision predictive value\n",
    "PPV = TP/(TP+FP) \n",
    "\n",
    "# False Positive rate  \n",
    "FPR = FP/(FP+TN) \n",
    "\n",
    "# False Negative rate  \n",
    "FNR = FN/(TP+FN)\n",
    "\n",
    "# Accuracy\n",
    "ACC = (TP+TN)/(TP+FP+FN+TN) \n",
    "\n",
    "# Using confusion matrix to get true positives below\n",
    "# Random Forests\n",
    "FP2 = cm2.sum(axis=0) - np.diag(cm2)  \n",
    "FN2 = cm2.sum(axis=1) - np.diag(cm2)\n",
    "TP2 = np.diag(cm2)\n",
    "TN2 = cm2.sum() - (FP2 + FN2 + TP2)\n",
    "\n",
    "# Calculating values from true positives\n",
    "# Precision predictive value\n",
    "PPV2 = TP2/(TP2+FP2)\n",
    "\n",
    "# False Positive rate         \n",
    "FPR2 = FP2/(FP2+TN2)\n",
    "\n",
    "# False Negative rate        \n",
    "FNR2 = FN2/(TP2+FN2)\n",
    "\n",
    "# Accuracy\n",
    "ACC2 = (TP2+TN2)/(TP2+FP2+FN2+TN2)\n"
   ]
  },
  {
   "cell_type": "code",
   "execution_count": 19,
   "id": "069d0271-f786-4280-8a3e-44769fdda70a",
   "metadata": {},
   "outputs": [],
   "source": [
    "from sklearn.model_selection import GridSearchCV\n",
    "# Calculating 10 fold cross validation for linear SVM\n",
    "grid = GridSearchCV(model1['type'], model1['parameters'], refit=True, cv = 10, scoring = 'accuracy')\n",
    "estimator = grid.fit(ind_train, dep_train)\n",
    "fold = (estimator.cv_results_.get('std_test_score').mean())/(math.sqrt(10))\n",
    "\n",
    "# Calculating 10 fold cross Validation for Random Forests\n",
    "grid2 = GridSearchCV(model2['type'], model2['parameters'], refit=True, cv = 10, scoring = 'accuracy')\n",
    "estimator2 = grid2.fit(ind_train, dep_train)\n",
    "fold2 = (estimator2.cv_results_.get('std_test_score').mean())/(math.sqrt(10))"
   ]
  },
  {
   "cell_type": "markdown",
   "id": "98bd16aa-8f01-4526-844f-9d9bc6f12595",
   "metadata": {},
   "source": [
    "The follow are the results of each ML. The 10 fold value printed out is with standard error."
   ]
  },
  {
   "cell_type": "code",
   "execution_count": 20,
   "id": "8ca7231d-034d-454b-b391-4c9828470224",
   "metadata": {},
   "outputs": [
    {
     "name": "stdout",
     "output_type": "stream",
     "text": [
      "_______LINEAR SVM RESULTS_______\n",
      "Precision predicitve value: [0.74545455 0.375             nan        nan        nan]\n",
      "False Positive Rate: [0.36842105 0.26315789 0.         0.         0.        ]\n",
      "False Negative Rate: [0.         0.59090909 1.         1.         1.        ]\n",
      "Accuracy: [0.82278481 0.64556962 0.88607595 0.93670886 0.97468354]\n",
      "10-fold for Linear SVM: 0.012027129862950839\n"
     ]
    }
   ],
   "source": [
    "print(\"_______LINEAR SVM RESULTS_______\")\n",
    "print(f\"Precision predicitve value: {PPV}\")\n",
    "print(f\"False Positive Rate: {FPR}\")\n",
    "print(f\"False Negative Rate: {FNR}\")\n",
    "print(f\"Accuracy: {ACC}\")\n",
    "print(f\"10-fold for Linear SVM: {fold}\")"
   ]
  },
  {
   "cell_type": "code",
   "execution_count": 21,
   "id": "bb7aa461-e58a-4683-b82d-b469c837f616",
   "metadata": {},
   "outputs": [
    {
     "name": "stdout",
     "output_type": "stream",
     "text": [
      "_______RANDOM FOREST RESULTS_______\n",
      "Precision predicitve value: [1.   0.88 0.5  1.    nan]\n",
      "False Positive Rate: [0.         0.05263158 0.08571429 0.         0.        ]\n",
      "False Negative Rate: [0.         0.         0.33333333 0.8        1.        ]\n",
      "Accuracy: [1.         0.96202532 0.88607595 0.94936709 0.97468354]\n",
      "10-fold for Random Forest: 0.014139933242123981\n"
     ]
    }
   ],
   "source": [
    "print(\"_______RANDOM FOREST RESULTS_______\")\n",
    "print(f\"Precision predicitve value: {PPV2}\")\n",
    "print(f\"False Positive Rate: {FPR2}\")\n",
    "print(f\"False Negative Rate: {FNR2}\")\n",
    "print(f\"Accuracy: {ACC2}\")\n",
    "print(f\"10-fold for Random Forest: {fold2}\")"
   ]
  },
  {
   "cell_type": "markdown",
   "id": "9bdbf979-07e9-496e-b0a3-194beb4faebd",
   "metadata": {},
   "source": [
    "From above, we can see from the accuracy and precision matrices that Random Forest performed better than Linear SVM. Accuracy for Random Forests is 100% for average weekly alcohol consumption level of 1. This could possibly be because there is more data where workday and weekday alcohol consumption levels are 1 (see \"Workday Alcohol Consumption\" and \"Weekday Alcohol Consumption\" graphs in Exploratory Data Analysis). This means our ML will learn more about data where consumption is a level 1 than other levels. This may be what limits some of the accuracy for other classifications. To better the accuracy, the dataset should have equal amounts of data for each level of consumption, that way the ML learns more about each classification equally (as much as the train data has) than one classification over another. However, as we see from the Random Forest and even most of Linear SVM, accuracy is not a major issue. Random Forest performs quite well for the given skew in data."
   ]
  },
  {
   "cell_type": "markdown",
   "id": "bfb4bc8c-4a19-4a97-95c1-782762de57ce",
   "metadata": {},
   "source": [
    "## Conclusion/Evaluation"
   ]
  },
  {
   "cell_type": "markdown",
   "id": "da8cacc5-e70c-46ae-a9e3-80153098be70",
   "metadata": {},
   "source": [
    "Now that we have done our exploratory analysis and hypothesis testing, we can talk more accurately about how alcohol consumption affects student success. We initially believed that high alcohol intake affects students' success at school negatively. After completing our data science cycle, we observe that our hypothesis was correct. Because high amounts of alcohol, especially at younger ages, absences at school, less study time, and weak concentration, students may show poor academic performance. This is not surprising, but it is good information to know and adds to the harmful affects of alcohol. "
   ]
  },
  {
   "cell_type": "markdown",
   "id": "6c612974-dbac-4605-830a-0622be1cc18b",
   "metadata": {},
   "source": [
    "We hope that this information can help show that alcohol does affect student's, expecially in higher consumption amounts. While this data was taken in Portugal where the drinking age is 18, we can still apply it to the U.S.. The drinking age is controversial in the U.S. because many countries around the world have the drinking age lower (some as low as 16). This data shows that with the lower drinking age, we risk academic performance of our teenage students, therefore it's a positive that the U.S. has the drinking age as 21 to help prevent teenage drinking (or at least make it more difficult to get access to alcohol). "
   ]
  }
 ],
 "metadata": {
  "kernelspec": {
   "display_name": "Python 3 (ipykernel)",
   "language": "python",
   "name": "python3"
  },
  "language_info": {
   "codemirror_mode": {
    "name": "ipython",
    "version": 3
   },
   "file_extension": ".py",
   "mimetype": "text/x-python",
   "name": "python",
   "nbconvert_exporter": "python",
   "pygments_lexer": "ipython3",
   "version": "3.9.7"
  }
 },
 "nbformat": 4,
 "nbformat_minor": 5
}
